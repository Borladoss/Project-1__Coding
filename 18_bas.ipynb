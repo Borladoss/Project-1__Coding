{
  "cells": [
    {
      "cell_type": "markdown",
      "metadata": {
        "id": "view-in-github",
        "colab_type": "text"
      },
      "source": [
        "<a href=\"https://colab.research.google.com/github/Borladoss/Project-1__Coding/blob/main/18_bas.ipynb\" target=\"_parent\"><img src=\"https://colab.research.google.com/assets/colab-badge.svg\" alt=\"Open In Colab\"/></a>"
      ]
    },
    {
      "cell_type": "markdown",
      "source": [
        "# 18 (บาส) นายภัทดนัย สิทธิพุทธา\n",
        "# Patdanai Sittipudta"
      ],
      "metadata": {
        "id": "ZuyFUfY0A3tX"
      }
    },
    {
      "cell_type": "markdown",
      "source": [
        "### 20 / 05 / 67\n",
        "# -เรียนรู้การใช้คำสั่ง print\n",
        "# -เรียนรู้ประเภทของ data อย่าง int , str , float"
      ],
      "metadata": {
        "id": "LkRxUaG-_GuB"
      }
    },
    {
      "cell_type": "code",
      "source": [
        "print('ผมชื่อบาส')"
      ],
      "metadata": {
        "colab": {
          "base_uri": "https://localhost:8080/"
        },
        "id": "BXd5KEiBBIIP",
        "outputId": "7fe4a94d-55ec-479d-a1ad-d04691c62a09"
      },
      "execution_count": null,
      "outputs": [
        {
          "output_type": "stream",
          "name": "stdout",
          "text": [
            "ผมชื่อบาส\n"
          ]
        }
      ]
    },
    {
      "cell_type": "code",
      "source": [
        "import math\n",
        "print(math.pi)"
      ],
      "metadata": {
        "id": "BODCll23DCjI",
        "outputId": "9c92571f-668f-4df8-c453-a8a003a403b7",
        "colab": {
          "base_uri": "https://localhost:8080/"
        }
      },
      "execution_count": null,
      "outputs": [
        {
          "output_type": "stream",
          "name": "stdout",
          "text": [
            "3.141592653589793\n"
          ]
        }
      ]
    },
    {
      "cell_type": "markdown",
      "source": [
        "### 29 / 05 / 67\n",
        "# -เรียนรู้ (Variable) ตัวแปร\n",
        "# -type\n",
        "# -เป็นคำสั่งที่ใช้แสดงประเภทของข้อมูล\n",
        "#-วิธีการใช้"
      ],
      "metadata": {
        "id": "JVjMlY1xZ1aC"
      }
    },
    {
      "cell_type": "code",
      "source": [
        "a = 4\n",
        "b = 1.2\n",
        "c = 'เทสดี'\n",
        "type(c)\n",
        "print('ตัวแปรที่ฉันคิด คือ friends')"
      ],
      "metadata": {
        "colab": {
          "base_uri": "https://localhost:8080/"
        },
        "id": "ZZdnRQ78bKUD",
        "outputId": "ca356cc3-cc8d-43cb-ab6a-344f43d307a2"
      },
      "execution_count": null,
      "outputs": [
        {
          "output_type": "stream",
          "name": "stdout",
          "text": [
            "ตัวแปรที่ฉันคิด คือ friends\n"
          ]
        }
      ]
    },
    {
      "cell_type": "code",
      "source": [
        "\n",
        "numeric1 = 5\n",
        "print(numeric1)\n",
        "type(numeric1)"
      ],
      "metadata": {
        "colab": {
          "base_uri": "https://localhost:8080/"
        },
        "id": "9KdCbC-pkFwK",
        "outputId": "2414f352-e15c-4391-bb99-aefd7d30c4d2"
      },
      "execution_count": null,
      "outputs": [
        {
          "output_type": "stream",
          "name": "stdout",
          "text": [
            "5\n"
          ]
        },
        {
          "output_type": "execute_result",
          "data": {
            "text/plain": [
              "int"
            ]
          },
          "metadata": {},
          "execution_count": 28
        }
      ]
    },
    {
      "cell_type": "markdown",
      "source": [
        "### 05 / 06 / 67\n",
        "#**DataStructure มี2ชนิดคือ Basic , Composite**\n",
        "#**Basic** แบ่งออกเป็น\n",
        "# **1. Numeric**\n",
        "# (-int จำนวนเต็ม -float ทศนิยม -bool จริง , เท็จ\n",
        "# -complex การซ้อนกันของสมการ)\n",
        "#**2. string** (ข้อความ)\n",
        "#**Composite** แบ่งอออกเป็น\n",
        "#list\n",
        "#**ค่าindexของPythonจะเริ่มจาก0ละถ้าเป็นค่าindexติดลบจะเริ่มนับ-1จากด้านขวาสุด**\n",
        "# **ระบุความสัมพันธ์ของคอมพิวเตอร์กับการเขียนโปรแกรมดังกล่าว**\n",
        "# **input**\n",
        "#string1 = 'Python'\n",
        "#print(string1[0])\n",
        "# **process**\n",
        "#การประมวลผล index 0 ใน string1\n",
        "# **output**\n",
        "# P"
      ],
      "metadata": {
        "id": "SfBBRU5PVxPe"
      }
    },
    {
      "cell_type": "code",
      "source": [
        "#หาตัวอักษรโดยคำสั่งหาตำแหน่งตัวอักษร\n",
        "string1 = \"Python\"\n",
        "print(string1[0])"
      ],
      "metadata": {
        "colab": {
          "base_uri": "https://localhost:8080/"
        },
        "id": "Qc1s8tYfVwtG",
        "outputId": "f0da44b1-fb73-4fc2-ebfa-d92ae897439a"
      },
      "execution_count": null,
      "outputs": [
        {
          "output_type": "stream",
          "name": "stdout",
          "text": [
            "P\n"
          ]
        }
      ]
    },
    {
      "cell_type": "markdown",
      "source": [
        "### 26 / 06 / 67\n",
        "# input คือ คำสั่งการรับเข้าข้อมูล"
      ],
      "metadata": {
        "id": "ddOrUFeHuaq2"
      }
    },
    {
      "cell_type": "code",
      "source": [
        "#input your name\n",
        "name=input()\n",
        "print(\"My name is \"+name)"
      ],
      "metadata": {
        "colab": {
          "base_uri": "https://localhost:8080/"
        },
        "id": "PTrPWqfNv4U1",
        "outputId": "bacc72b9-59c5-4e0d-e7e2-189df3e44f61"
      },
      "execution_count": null,
      "outputs": [
        {
          "output_type": "stream",
          "name": "stdout",
          "text": [
            "Bas\n",
            "My name is Bas\n"
          ]
        }
      ]
    },
    {
      "cell_type": "code",
      "source": [
        "#find squre\n",
        "side=int(input(\"ความยาวด้าน = \"))\n",
        "find_squre=side*side\n",
        "print(\"พื้นที่สี่เหลี่ยมจัตุรัสคือ \",find_squre,\"ตารางเมตร\")"
      ],
      "metadata": {
        "id": "-Mwwntk0y4kj",
        "colab": {
          "base_uri": "https://localhost:8080/"
        },
        "outputId": "ce992d24-1e54-450b-b0a7-b570de160253"
      },
      "execution_count": null,
      "outputs": [
        {
          "output_type": "stream",
          "name": "stdout",
          "text": [
            "ความยาวด้าน = 4\n",
            "พื้นที่สี่เหลี่ยมจัตุรัสคือ  16 ตารางเมตร\n"
          ]
        }
      ]
    },
    {
      "cell_type": "markdown",
      "source": [
        "### 01 / 07/ 67\n",
        "# ทดสอบเขียนโปรแกรม"
      ],
      "metadata": {
        "id": "c_hqO3-kO736"
      }
    },
    {
      "cell_type": "code",
      "source": [
        "#หาพื้นที่สี่เหลี่ยมผืนผ้า\n",
        "side_long=int(input(\"ความยาวด้านยาว = \"))\n",
        "side_Width=int(input(\"ความยาวด้านกว้าง = \"))\n",
        "find_rectangle=side_long*side_Width\n",
        "print('พื้นที่สี่เหลี่ยมผืนผ้าคือ ',find_rectangle,'ตารางเมตร')"
      ],
      "metadata": {
        "colab": {
          "base_uri": "https://localhost:8080/"
        },
        "id": "XMdRMKQSPpES",
        "outputId": "524ca126-e58a-4773-94cc-c5b659e38962"
      },
      "execution_count": null,
      "outputs": [
        {
          "output_type": "stream",
          "name": "stdout",
          "text": [
            "ความยาวด้านยาว = 4\n",
            "ความยาวด้านกว้าง = 5\n",
            "พื้นที่สี่เหลี่ยมจัตุรัสคือ  20 ตารางเมตร\n"
          ]
        }
      ]
    },
    {
      "cell_type": "code",
      "source": [
        "#s=vt\n",
        "speed=int(input(\"speed = \"))\n",
        "time=int(input(\"time = \"))\n",
        "distance=speed*time\n",
        "print(\"การเคลื่อนที่แนวตรงเท่ากับ\",distance,\"m/s\")\n"
      ],
      "metadata": {
        "colab": {
          "base_uri": "https://localhost:8080/"
        },
        "id": "wdnuUCABRqH7",
        "outputId": "e7631eae-9089-48b5-84a1-738eae483eca"
      },
      "execution_count": null,
      "outputs": [
        {
          "output_type": "stream",
          "name": "stdout",
          "text": [
            "speed = 4\n",
            "time = 5\n",
            "การเคลื่อนที่แนวตรงเท่ากับ 20 m/s\n"
          ]
        }
      ]
    },
    {
      "cell_type": "code",
      "source": [
        "#BMI\n",
        "Welcome=input(\"Hello welcome \")\n",
        "print(\"progarm find BMi by Borladoss\")\n",
        "weight=int(input(\"weight = \"))\n",
        "hight=float(input(\"hight (เช่นสูง165ให้เขียนว่า1.65) = \"))\n",
        "BMI=weight/hight**2\n",
        "\n",
        "print(\"Your BMI = \",BMI)"
      ],
      "metadata": {
        "colab": {
          "base_uri": "https://localhost:8080/"
        },
        "id": "lhbrRVknXeIo",
        "outputId": "e8eef5b2-9e09-4ec1-8c57-3a8ab74a5faa"
      },
      "execution_count": null,
      "outputs": [
        {
          "output_type": "stream",
          "name": "stdout",
          "text": [
            "Hello welcome Bas\n",
            "progarm find BMi by Borladoss\n",
            "weight = 50\n",
            "hight (เช่นสูง165ให้เขียนว่า1.65) = 1.65\n",
            "น้ำหนักต่ำกว่าเกณฑ์\n",
            "Your BMI =  18.36547291092746\n"
          ]
        }
      ]
    }
  ],
  "metadata": {
    "colab": {
      "provenance": [],
      "include_colab_link": true
    },
    "kernelspec": {
      "display_name": "Python 3",
      "name": "python3"
    }
  },
  "nbformat": 4,
  "nbformat_minor": 0
}